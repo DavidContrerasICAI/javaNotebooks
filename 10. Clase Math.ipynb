{
 "cells": [
  {
   "cell_type": "markdown",
   "metadata": {},
   "source": [
    "# Clase Math"
   ]
  },
  {
   "cell_type": "markdown",
   "metadata": {},
   "source": [
    "https://docs.oracle.com/javase/7/docs/api/java/lang/Math.html"
   ]
  },
  {
   "cell_type": "markdown",
   "metadata": {},
   "source": [
    "import java.lang.Math;\n",
    "\n",
    "The class Math contains methods for performing basic numeric operations such as the elementary exponential, logarithm, square root, and trigonometric functions.\n",
    "\n",
    "Since:\n",
    "JDK1.0"
   ]
  },
  {
   "cell_type": "markdown",
   "metadata": {},
   "source": [
    "## Métodos"
   ]
  },
  {
   "cell_type": "markdown",
   "metadata": {},
   "source": [
    "### Valor absoluto"
   ]
  },
  {
   "cell_type": "markdown",
   "metadata": {},
   "source": [
    "El método abs(valor) devuelve el valor absoluto de un valor. Admite valores tipo int, float, double y long"
   ]
  },
  {
   "cell_type": "code",
   "execution_count": 1,
   "metadata": {},
   "outputs": [
    {
     "name": "stdout",
     "output_type": "stream",
     "text": [
      "-27\n",
      "-4.0\n",
      "6.0\n",
      "-3\n",
      "\n",
      "27\n",
      "4.0\n",
      "6.0\n",
      "3\n"
     ]
    }
   ],
   "source": [
    "int i = -27;\n",
    "float f = -4;   \n",
    "double d = 6;\n",
    "long l = -3;\n",
    "\n",
    "System.out.println(i);\n",
    "System.out.println(f);\n",
    "System.out.println(d);\n",
    "System.out.println(l);\n",
    "\n",
    "System.out.println(\"\\n\" + Math.abs(i));\n",
    "System.out.println(Math.abs(f));\n",
    "System.out.println(Math.abs(d));\n",
    "System.out.println(Math.abs(l));"
   ]
  },
  {
   "cell_type": "markdown",
   "metadata": {},
   "source": [
    "### Redondeos"
   ]
  },
  {
   "cell_type": "raw",
   "metadata": {},
   "source": [
    " El método ceil(double a) devuelve el entero más cercano por arriba, rodondea a al alza.\n",
    " El método floor(double a) devuelve el entero más cercano por abajo, redondea a la baja.\n",
    " El método round(double a) devuelve el entero más cercano, redondeo. "
   ]
  },
  {
   "cell_type": "code",
   "execution_count": 44,
   "metadata": {},
   "outputs": [
    {
     "name": "stdout",
     "output_type": "stream",
     "text": [
      "24.0\n",
      "8.0\n",
      "10.0\n",
      "9.0\n",
      "10\n"
     ]
    }
   ],
   "source": [
    "double a = 23.2;\n",
    "System.out.println(Math.ceil(a));\n",
    "\n",
    "double a = 8.7;\n",
    "System.out.println(Math.floor(a));\n",
    "\n",
    "double a = 9.6;\n",
    "System.out.println(Math.ceil(a));\n",
    "System.out.println(Math.floor(a));\n",
    "System.out.println(Math.round(a));"
   ]
  },
  {
   "cell_type": "markdown",
   "metadata": {},
   "source": [
    "### Funciones trigonométricas"
   ]
  },
  {
   "cell_type": "markdown",
   "metadata": {},
   "source": [
    "El método sin(double a) devuelve el seno de un ángulo.\n",
    "El método cos(double a) devuelve el coseno de un ángulo.\n",
    "El método tan(double a)devuelve la tangente de un ángulo."
   ]
  },
  {
   "cell_type": "code",
   "execution_count": 43,
   "metadata": {},
   "outputs": [
    {
     "name": "stdout",
     "output_type": "stream",
     "text": [
      "1.0\n",
      "6.123233995736766E-17\n",
      "1.633123935319537E16\n"
     ]
    }
   ],
   "source": [
    "double angulo = Math.PI/2 ;\n",
    "\n",
    "System.out.println(Math.sin(angulo));\n",
    "System.out.println(Math.cos(angulo));\n",
    "System.out.println(Math.tan(angulo));"
   ]
  },
  {
   "cell_type": "markdown",
   "metadata": {},
   "source": [
    "### Exponencial"
   ]
  },
  {
   "cell_type": "markdown",
   "metadata": {},
   "source": [
    "El método exp(double a) devuelve el exponencial de un número."
   ]
  },
  {
   "cell_type": "code",
   "execution_count": 47,
   "metadata": {},
   "outputs": [
    {
     "name": "stdout",
     "output_type": "stream",
     "text": [
      "29.96410004739701\n"
     ]
    }
   ],
   "source": [
    "double d = 3.4;\n",
    "System.out.println(Math.exp(d));"
   ]
  },
  {
   "cell_type": "markdown",
   "metadata": {},
   "source": [
    "### Logaritmos"
   ]
  },
  {
   "cell_type": "markdown",
   "metadata": {},
   "source": [
    "El método log(double a) devuelve el logaritmo en base e del valor del double.\n",
    "El método log10(double a) devuelve el logaritmo en base 10 del valor del double."
   ]
  },
  {
   "cell_type": "code",
   "execution_count": 48,
   "metadata": {},
   "outputs": [
    {
     "name": "stdout",
     "output_type": "stream",
     "text": [
      "0.414973347970818\n",
      "-0.8568887533689473\n"
     ]
    }
   ],
   "source": [
    "double a = 2.6;\n",
    "\n",
    "System.out.println(Math.log10(a));\n",
    "System.out.println(Math.cos(a));"
   ]
  },
  {
   "cell_type": "markdown",
   "metadata": {},
   "source": [
    "### Raíz cuadrada"
   ]
  },
  {
   "cell_type": "markdown",
   "metadata": {},
   "source": [
    "El método sqrt(double a) devuelve la raíz cuadrada del valor pasado como argumento."
   ]
  },
  {
   "cell_type": "code",
   "execution_count": 57,
   "metadata": {},
   "outputs": [
    {
     "name": "stdout",
     "output_type": "stream",
     "text": [
      "3.0\n"
     ]
    }
   ],
   "source": [
    "double a = 9;\n",
    "\n",
    "System.out.println(Math.sqrt(a));"
   ]
  },
  {
   "cell_type": "markdown",
   "metadata": {},
   "source": [
    "### Máximo y mínimo"
   ]
  },
  {
   "cell_type": "markdown",
   "metadata": {},
   "source": [
    "Los métodos max(double a, double b) y min(double a, double b) devuelven el valor máximo y mínimo respectivamente de dos valores."
   ]
  },
  {
   "cell_type": "code",
   "execution_count": 49,
   "metadata": {},
   "outputs": [
    {
     "name": "stdout",
     "output_type": "stream",
     "text": [
      "7.6\n",
      "3.4\n"
     ]
    }
   ],
   "source": [
    "double a = 7.6;\n",
    "double b = 3.4;\n",
    "\n",
    "System.out.println(Math.max(a,b));\n",
    "System.out.println(Math.min(a,b));"
   ]
  },
  {
   "cell_type": "markdown",
   "metadata": {},
   "source": [
    "### Valor aleatorio"
   ]
  },
  {
   "cell_type": "markdown",
   "metadata": {},
   "source": [
    "El método random() devuelve un valor double aleatorio positivo entre 0.0 y 1.0"
   ]
  },
  {
   "cell_type": "code",
   "execution_count": 56,
   "metadata": {},
   "outputs": [
    {
     "name": "stdout",
     "output_type": "stream",
     "text": [
      "0.9294392370299338\n"
     ]
    }
   ],
   "source": [
    "System.out.println(Math.random());"
   ]
  },
  {
   "cell_type": "markdown",
   "metadata": {},
   "source": [
    "### Conversiones angulares"
   ]
  },
  {
   "cell_type": "markdown",
   "metadata": {},
   "source": [
    "El método toDegrees(double angrad) convierte un ángulo medido en radianes a un ángulo medido en grados.\n",
    "El método toRadians(double andeg) convierte un ángulo medido en grados a un ángulo medido en radianes."
   ]
  },
  {
   "cell_type": "code",
   "execution_count": 58,
   "metadata": {},
   "outputs": [
    {
     "name": "stdout",
     "output_type": "stream",
     "text": [
      "3.141592653589793\n",
      "180.0\n"
     ]
    }
   ],
   "source": [
    "double angrad = Math.PI;\n",
    "double andeg = 180;\n",
    "\n",
    "System.out.println(Math.toRadians(andeg));\n",
    "System.out.println(Math.toDegrees(angrad));"
   ]
  }
 ],
 "metadata": {
  "kernelspec": {
   "display_name": "Java",
   "language": "java",
   "name": "java"
  },
  "language_info": {
   "codemirror_mode": "java",
   "file_extension": ".java",
   "mimetype": "text/x-java-source",
   "name": "Java",
   "pygments_lexer": "java",
   "version": "10.0.2+13-Ubuntu-1ubuntu0.18.04.4"
  }
 },
 "nbformat": 4,
 "nbformat_minor": 2
}
