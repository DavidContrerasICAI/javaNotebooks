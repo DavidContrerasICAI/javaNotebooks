{
 "cells": [
  {
   "cell_type": "markdown",
   "metadata": {},
   "source": [
    "### Iterando arrays"
   ]
  },
  {
   "cell_type": "code",
   "execution_count": 25,
   "metadata": {},
   "outputs": [],
   "source": [
    "String lista[] = {\"Uno\", \"Dos\", \"Tres\"};"
   ]
  },
  {
   "cell_type": "markdown",
   "metadata": {},
   "source": [
    "#### Iteración de un array en versión tradicional"
   ]
  },
  {
   "cell_type": "code",
   "execution_count": 26,
   "metadata": {},
   "outputs": [
    {
     "name": "stdout",
     "output_type": "stream",
     "text": [
      "UNO\n",
      "DOS\n",
      "TRES\n"
     ]
    }
   ],
   "source": [
    "for(int i=0;i<lista.length;i++)\n",
    "    System.out.println(lista[i].toUpperCase());"
   ]
  },
  {
   "cell_type": "markdown",
   "metadata": {},
   "source": [
    "#### Iteración de un array con for each"
   ]
  },
  {
   "cell_type": "code",
   "execution_count": 27,
   "metadata": {},
   "outputs": [
    {
     "name": "stdout",
     "output_type": "stream",
     "text": [
      "UNO\n",
      "DOS\n",
      "TRES\n"
     ]
    }
   ],
   "source": [
    "for(String palabra:lista)\n",
    "    System.out.println(palabra.toUpperCase());"
   ]
  },
  {
   "cell_type": "markdown",
   "metadata": {},
   "source": [
    "### Iterando Collections"
   ]
  },
  {
   "cell_type": "code",
   "execution_count": 28,
   "metadata": {},
   "outputs": [],
   "source": [
    "Collection lista = new ArrayList();"
   ]
  },
  {
   "cell_type": "code",
   "execution_count": 29,
   "metadata": {},
   "outputs": [
    {
     "data": {
      "text/plain": [
       "true"
      ]
     },
     "execution_count": 29,
     "metadata": {},
     "output_type": "execute_result"
    }
   ],
   "source": [
    "lista.add(\"Uno\");\n",
    "lista.add(\"Dos\");\n",
    "lista.add(\"Tres\");"
   ]
  },
  {
   "cell_type": "markdown",
   "metadata": {},
   "source": [
    "#### Iteración de una Collection mediante Iteradores"
   ]
  },
  {
   "cell_type": "code",
   "execution_count": 30,
   "metadata": {},
   "outputs": [
    {
     "name": "stdout",
     "output_type": "stream",
     "text": [
      "UNO\n",
      "DOS\n",
      "TRES\n"
     ]
    }
   ],
   "source": [
    "Iterator it = lista.iterator();\n",
    "while(it.hasNext())\n",
    "{\n",
    "    String palabra = (String) it.next();\n",
    "    System.out.println(palabra.toUpperCase());\n",
    "}"
   ]
  },
  {
   "cell_type": "markdown",
   "metadata": {},
   "source": [
    "#### Iteración de una Collection mediante for each"
   ]
  },
  {
   "cell_type": "code",
   "execution_count": 31,
   "metadata": {},
   "outputs": [
    {
     "name": "stdout",
     "output_type": "stream",
     "text": [
      "UNO\n",
      "DOS\n",
      "TRES\n"
     ]
    }
   ],
   "source": [
    "for(Object objeto:lista)\n",
    "{\n",
    "    String palabra = (String) objeto;\n",
    "    System.out.println(palabra.toUpperCase());\n",
    "}"
   ]
  },
  {
   "cell_type": "markdown",
   "metadata": {},
   "source": [
    "#### Iteración de una Collection tipificada mediante for each"
   ]
  },
  {
   "cell_type": "code",
   "execution_count": 32,
   "metadata": {},
   "outputs": [
    {
     "data": {
      "text/plain": [
       "true"
      ]
     },
     "execution_count": 32,
     "metadata": {},
     "output_type": "execute_result"
    }
   ],
   "source": [
    "Collection<String> lista = new ArrayList<String>();\n",
    "lista.add(\"Uno\");\n",
    "lista.add(\"Dos\");\n",
    "lista.add(\"Tres\");"
   ]
  },
  {
   "cell_type": "code",
   "execution_count": 33,
   "metadata": {},
   "outputs": [
    {
     "name": "stdout",
     "output_type": "stream",
     "text": [
      "UNO\n",
      "DOS\n",
      "TRES\n"
     ]
    }
   ],
   "source": [
    "for(String palabra:lista)\n",
    "    System.out.println(palabra.toUpperCase());"
   ]
  }
 ],
 "metadata": {
  "kernelspec": {
   "display_name": "Java",
   "language": "java",
   "name": "java"
  },
  "language_info": {
   "codemirror_mode": "java",
   "file_extension": ".java",
   "mimetype": "text/x-java-source",
   "name": "Java",
   "pygments_lexer": "java",
   "version": "10.0.2+13-Ubuntu-1ubuntu0.18.04.4"
  }
 },
 "nbformat": 4,
 "nbformat_minor": 2
}
