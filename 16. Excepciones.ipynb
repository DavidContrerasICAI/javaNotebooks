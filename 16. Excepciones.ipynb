{
 "cells": [
  {
   "cell_type": "markdown",
   "metadata": {},
   "source": [
    "### Try/catch convencional"
   ]
  },
  {
   "cell_type": "code",
   "execution_count": 1,
   "metadata": {},
   "outputs": [
    {
     "name": "stdout",
     "output_type": "stream",
     "text": [
      "Error en la conversión\n"
     ]
    }
   ],
   "source": [
    "try\n",
    "{\n",
    "    int a = Integer.parseInt(\"23a\");\n",
    "}\n",
    "catch(NumberFormatException nfe)\n",
    "{\n",
    "    System.out.println(\"Error en la conversión\");\n",
    "}"
   ]
  },
  {
   "cell_type": "code",
   "execution_count": 10,
   "metadata": {},
   "outputs": [
    {
     "name": "stdout",
     "output_type": "stream",
     "text": [
      "No se encontró el fichero\n"
     ]
    }
   ],
   "source": [
    "Scanner scanner = null;\n",
    "try  \n",
    "{\n",
    "    scanner = new Scanner(new File(\"test.txt\"));\n",
    "    while (scanner.hasNext()) \n",
    "        System.out.println(scanner.nextLine());\n",
    "}\n",
    "catch (FileNotFoundException fnfe) \n",
    "{\n",
    "    System.out.println(\"No se encontró el fichero\");  \n",
    "}\n",
    "finally \n",
    "{\n",
    "    if(scanner!=null)\n",
    "        scanner.close();\n",
    "}"
   ]
  },
  {
   "cell_type": "markdown",
   "metadata": {},
   "source": [
    "### Try/catch con resources"
   ]
  },
  {
   "cell_type": "code",
   "execution_count": 11,
   "metadata": {},
   "outputs": [
    {
     "name": "stdout",
     "output_type": "stream",
     "text": [
      "No se encontró el fichero\n"
     ]
    }
   ],
   "source": [
    "try (Scanner scanner = new Scanner(new File(\"test.txt\"))) \n",
    "{\n",
    "    while (scanner.hasNext()) \n",
    "        System.out.println(scanner.nextLine());\n",
    "}\n",
    "catch (FileNotFoundException fnfe) \n",
    "{\n",
    "    System.out.println(\"No se encontró el fichero\");  \n",
    "}\n",
    "finally \n",
    "{\n",
    "    if(scanner!=null)\n",
    "        scanner.close();\n",
    "}"
   ]
  },
  {
   "cell_type": "code",
   "execution_count": null,
   "metadata": {},
   "outputs": [],
   "source": []
  }
 ],
 "metadata": {
  "kernelspec": {
   "display_name": "Java",
   "language": "java",
   "name": "java"
  },
  "language_info": {
   "codemirror_mode": "java",
   "file_extension": ".java",
   "mimetype": "text/x-java-source",
   "name": "Java",
   "pygments_lexer": "java",
   "version": "10.0.2+13-Ubuntu-1ubuntu0.18.04.4"
  }
 },
 "nbformat": 4,
 "nbformat_minor": 2
}
