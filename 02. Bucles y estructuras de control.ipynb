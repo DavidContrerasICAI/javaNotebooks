{
 "cells": [
  {
   "cell_type": "markdown",
   "metadata": {},
   "source": [
    "# Bucles y estructuras de control"
   ]
  },
  {
   "cell_type": "markdown",
   "metadata": {},
   "source": [
    "Documentación:\n",
    "https://docs.oracle.com/javase/tutorial/java/nutsandbolts/for.html\n",
    "https://docs.oracle.com/javase/tutorial/java/nutsandbolts/while.html"
   ]
  },
  {
   "cell_type": "markdown",
   "metadata": {},
   "source": [
    "Los bucles se utilizan para ejecutar un conjunto de instrucciones varias veces basándose siempre en una condición que decidirá si se sigue repitiendo o no. Los bucles que vamos a estudiar son los bucles for, while y do-while ya vistos anteriormente en C.\n",
    "\n",
    "Bucle for permite ejecutar el conjunto de sentencias escritas en él en un número determinado de veces, el cual está fijado a principio del bucle y funciona al igual que un contador. Su expresión típica es:\n",
    "\n",
    "for(inicialización, condición booleana, incremento){\n",
    "sentencias\n",
    "}\n",
    "\n",
    "El bucle while ejecuta las instrucciones de las llaves mientras la condición sea verdadera. Un bucle while viene definido por:\n",
    "\n",
    "while(condición){\n",
    "sentencias\n",
    "}\n",
    "\n",
    "Finalmente, el bucle do-while es idéntico al while, solo que en este caso la condición se evalua al final del bucle, por lo que el conjunto de sentencias incluido en las llaves se ejecuta al menos una vez. La forma de este bucle es:\n",
    "\n",
    "do{\n",
    "sentencias\n",
    "}while(condición);\n"
   ]
  },
  {
   "cell_type": "markdown",
   "metadata": {},
   "source": [
    "## Ejemplo de bucle for"
   ]
  },
  {
   "cell_type": "code",
   "execution_count": 1,
   "metadata": {
    "scrolled": true
   },
   "outputs": [
    {
     "name": "stdout",
     "output_type": "stream",
     "text": [
      "el valor de i es: 0\n",
      "el valor de i es: 1\n",
      "el valor de i es: 2\n",
      "el valor de i es: 3\n",
      "el valor de i es: 4\n",
      "el valor de i es: 5\n",
      "el valor de i es: 6\n",
      "el valor de i es: 7\n",
      "el valor de i es: 8\n",
      "el valor de i es: 9\n"
     ]
    }
   ],
   "source": [
    "for (int i=0; i <10; i++)\n",
    "{\n",
    "    System.out.println(\"el valor de i es: \" + i);\n",
    "}"
   ]
  },
  {
   "cell_type": "markdown",
   "metadata": {},
   "source": [
    "## Ejemplo de bucle while"
   ]
  },
  {
   "cell_type": "code",
   "execution_count": 2,
   "metadata": {},
   "outputs": [
    {
     "name": "stdout",
     "output_type": "stream",
     "text": [
      "¿Cúanto vale ahora i?\n",
      "El valor de i es: 0\n"
     ]
    }
   ],
   "source": [
    "int i=5;\n",
    "\n",
    "while ( i > 0 )\n",
    "{\n",
    "    i--;\n",
    "}\n",
    "\n",
    "System.out.println(\"¿Cúanto vale ahora i?\");\n",
    "System.out.println(\"El valor de i es: \"+ i);"
   ]
  },
  {
   "cell_type": "markdown",
   "metadata": {},
   "source": [
    "## Ejemplo de bucle do-while"
   ]
  },
  {
   "cell_type": "code",
   "execution_count": 3,
   "metadata": {
    "scrolled": true
   },
   "outputs": [
    {
     "name": "stdout",
     "output_type": "stream",
     "text": [
      "¿Cúanto vale ahora i?\n",
      "El valor de i es: 0\n"
     ]
    }
   ],
   "source": [
    "int i=5;\n",
    "\n",
    "do \n",
    "{\n",
    "    i--;\n",
    "}while(i > 0 );\n",
    "\n",
    "System.out.println(\"¿Cúanto vale ahora i?\");\n",
    "System.out.println(\"El valor de i es: \"+ i);"
   ]
  },
  {
   "cell_type": "code",
   "execution_count": 1,
   "metadata": {},
   "outputs": [
    {
     "ename": "IncompleteSourceException",
     "evalue": "if",
     "output_type": "error",
     "traceback": [
      "\u001b[1m\u001b[31mIncomplete input:\u001b[0m",
      "\u001b[1m\u001b[30m|   \u001b[1m\u001b[30mif\u001b[0m"
     ]
    }
   ],
   "source": [
    "if"
   ]
  },
  {
   "cell_type": "code",
   "execution_count": 2,
   "metadata": {},
   "outputs": [
    {
     "ename": "IncompleteSourceException",
     "evalue": "switch(\"a\")",
     "output_type": "error",
     "traceback": [
      "\u001b[1m\u001b[31mIncomplete input:\u001b[0m",
      "\u001b[1m\u001b[30m|   \u001b[1m\u001b[30mswitch(\"a\")\u001b[0m"
     ]
    }
   ],
   "source": [
    "switch(\"a\")"
   ]
  },
  {
   "cell_type": "code",
   "execution_count": null,
   "metadata": {},
   "outputs": [],
   "source": []
  }
 ],
 "metadata": {
  "kernelspec": {
   "display_name": "Java",
   "language": "java",
   "name": "java"
  },
  "language_info": {
   "codemirror_mode": "java",
   "file_extension": ".java",
   "mimetype": "text/x-java-source",
   "name": "Java",
   "pygments_lexer": "java",
   "version": "10.0.2+13-Ubuntu-1ubuntu0.18.04.4"
  }
 },
 "nbformat": 4,
 "nbformat_minor": 2
}
