{
 "cells": [
  {
   "cell_type": "markdown",
   "metadata": {},
   "source": [
    "# Modificadores de acceso"
   ]
  },
  {
   "cell_type": "markdown",
   "metadata": {},
   "source": [
    "¿Qué ocurre si programamos las clases haciendo caso omiso a la recomendación de David de manipulación de atributos en las clases?"
   ]
  },
  {
   "cell_type": "code",
   "execution_count": 1,
   "metadata": {},
   "outputs": [
    {
     "ename": "CompilationException",
     "evalue": "",
     "output_type": "error",
     "traceback": [
      "\u001b[1m\u001b[30m|   \u001b[1m\u001b[30m        \u001b[0m\u001b[1m\u001b[30m\u001b[41mthis.nombre\u001b[0m\u001b[1m\u001b[30m = nombre;\u001b[0m",
      "\u001b[1m\u001b[31mnombre has private access in Persona\u001b[0m",
      "",
      "\u001b[1m\u001b[30m|   \u001b[1m\u001b[30m        \u001b[0m\u001b[1m\u001b[30m\u001b[41mthis.edad\u001b[0m\u001b[1m\u001b[30m = edad;\u001b[0m",
      "\u001b[1m\u001b[31medad has private access in Persona\u001b[0m",
      "",
      "\u001b[1m\u001b[30m|   \u001b[1m\u001b[30m        return \u001b[0m\u001b[1m\u001b[30m\u001b[41mnombre\u001b[0m\u001b[1m\u001b[30m + \u001b[0m",
      "\u001b[1m\u001b[31mnombre has private access in Persona\u001b[0m",
      "",
      "\u001b[1m\u001b[30m|   \u001b[1m\u001b[30m        \u001b[0m\u001b[1m\u001b[30m\u001b[41medad\u001b[0m\u001b[1m\u001b[30m +\u001b[0m",
      "\u001b[1m\u001b[31medad has private access in Persona\u001b[0m",
      ""
     ]
    }
   ],
   "source": [
    "public class Persona\n",
    "{\n",
    "    private String nombre;\n",
    "    private int edad;\n",
    "    \n",
    "    //Aparece para solucionar los errores\n",
    "    public Persona() {}\n",
    "\n",
    "    public Persona(String nombre, int edad)\n",
    "    {\n",
    "        this.nombre = nombre;\n",
    "        this.edad = edad;\n",
    "    }\n",
    "    \n",
    "    public String getNombre()\n",
    "    {\n",
    "        return nombre;\n",
    "    }\n",
    "\n",
    "    @Override\n",
    "    public String toString()\n",
    "    {\n",
    "        return nombre + \"(\" + edad + \")\"; \n",
    "    }\n",
    "}\n",
    "\n",
    "public class Trabajador extends Persona\n",
    "{\n",
    "    private String profesion;\n",
    "\n",
    "    public Trabajador(String nombre, int edad, String profesion)\n",
    "    {\n",
    "        this.nombre = nombre;\n",
    "        this.edad = edad;\n",
    "        this.profesion = profesion;\n",
    "    }\n",
    "\n",
    "    public String getProfesion()\n",
    "    {\n",
    "        return profesion;\n",
    "    }\n",
    "\n",
    "    @Override\n",
    "    public String toString()\n",
    "    {\n",
    "        return nombre + \n",
    "        \"(\" + \n",
    "        edad +\n",
    "        \")\" + \n",
    "        profesion;\n",
    "    }\n",
    "}"
   ]
  },
  {
   "cell_type": "code",
   "execution_count": 4,
   "metadata": {},
   "outputs": [],
   "source": [
    "public class Persona\n",
    "{\n",
    "    private String nombre;\n",
    "    private int edad;\n",
    "    \n",
    "    public Persona(String nombre, int edad)\n",
    "    {\n",
    "        this.nombre = nombre;\n",
    "        this.edad = edad;\n",
    "    }\n",
    "    \n",
    "    public String getNombre()\n",
    "    {\n",
    "        return nombre;\n",
    "    }\n",
    "\n",
    "    @Override\n",
    "    public String toString()\n",
    "    {\n",
    "        return nombre + \"(\" + edad + \")\"; \n",
    "    }\n",
    "}\n",
    "\n",
    "public class Trabajador extends Persona\n",
    "{\n",
    "    private String profesion;\n",
    "\n",
    "    public Trabajador(String nombre, int edad, String profesion)\n",
    "    {\n",
    "        super(nombre, edad);\n",
    "        this.profesion = profesion;\n",
    "    }\n",
    "\n",
    "    public String getProfesion()\n",
    "    {\n",
    "        return profesion;\n",
    "    }\n",
    "\n",
    "    @Override\n",
    "    public String toString()\n",
    "    {\n",
    "        return super.toString() + profesion;\n",
    "    }\n",
    "}"
   ]
  }
 ],
 "metadata": {
  "kernelspec": {
   "display_name": "Java",
   "language": "java",
   "name": "java"
  },
  "language_info": {
   "codemirror_mode": "java",
   "file_extension": ".java",
   "mimetype": "text/x-java-source",
   "name": "Java",
   "pygments_lexer": "java",
   "version": "10.0.2+13-Ubuntu-1ubuntu0.18.04.4"
  }
 },
 "nbformat": 4,
 "nbformat_minor": 2
}
