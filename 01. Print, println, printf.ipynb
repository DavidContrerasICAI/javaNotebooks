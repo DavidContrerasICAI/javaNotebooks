{
 "cells": [
  {
   "cell_type": "markdown",
   "metadata": {},
   "source": [
    "# 01 - Print, println, printf"
   ]
  },
  {
   "cell_type": "markdown",
   "metadata": {},
   "source": [
    "API: https://docs.oracle.com/javase/7/docs/api/java/io/PrintStream.html"
   ]
  },
  {
   "cell_type": "markdown",
   "metadata": {},
   "source": [
    "Los métodos que vamos a estudiar en esta lección pertenecen a la clase PrintStream de Java. Esta clase añade funcionalidad a las salidas de texto (output stream). Estos métodos son: print, println y printf.\n",
    "\n",
    "En primer lugar, el método printf (que deriva de \"print formatted\") imprime un mensaje por pantalla utilizando el formato y los argumentos indicados. Tal vez este método le resulte familiar porque ya se estudió en el lenguaje C.\n",
    "\n",
    "El método print imprime el argumento que se le pase, que puede ser, entre otros, un int, float, boolean, char o string. Si el argumento es un \"null\" se imprime un \"null\", si no, los caracteres se imprimen por pantalla.\n",
    "\n",
    "Finalmente, la diferencia de este último con el método println, es que ahora se incluye un caracter de final de línea ('\\n') al final de cada sentencia, de tal manera que no es necesario escribirlo cada vez que queramos pasar a la siguiente línea.\n",
    "\n",
    "System.out.println(data)?? EN REALIDAD ES SYSTEM!!!\n",
    "\n",
    "\n"
   ]
  },
  {
   "cell_type": "markdown",
   "metadata": {},
   "source": [
    "## Ejemplos de printf"
   ]
  },
  {
   "cell_type": "markdown",
   "metadata": {},
   "source": [
    "Vamos a ver cómo podemos utilizar printf para dar formato a los datos que se imprimen por pantalla en Java. Este método es útil para cuando queremos mostrar un número tipo float o doucle con un número determinado de decimales y no con los que por defecto mostraría Java."
   ]
  },
  {
   "cell_type": "markdown",
   "metadata": {},
   "source": [
    "Los dos argumentos de printf vienen separados por una coma. El primer argumento es el String de formato, mientras que el segundo son el conjunto de datos a representar. La sintaxis general de printf es: printf (String de formato, Object datos);\n",
    "\n",
    "El String de formato es una cadena de caracteres que contiene:\n",
    "- Texto fijo que se muestra tal cual esté escrito\n",
    "- Especificaciones de formato que determinan la forma en que se muestran los datosç\n",
    "\n",
    "Los datos representan la información que se va a mostrar y sobre la que se aplica el formato. El número de datos que se pueden mostrar es variable.\n",
    "\n",
    "Cada tipo de dato tiene un caracter especial tal y como se muestra a continuación:\n",
    "\n",
    "- d: número entero en base decimal\n",
    "- f: número real con punto fijo\n",
    "- E,e: número real con notación científica\n",
    "- g: número real. Se representará con notación científica si el número es muy grande o muy pequeño\n",
    "- X,x: Número entero en base hexadecimal\n",
    "- s: String\n",
    "- S: String en mayúsculas\n",
    "- C,c: Carácter Unicode (C en mayúsculas)\n"
   ]
  },
  {
   "cell_type": "code",
   "execution_count": null,
   "metadata": {},
   "outputs": [],
   "source": [
    "System.out.printf(\"%.2f %n\", 23.6204);"
   ]
  },
  {
   "cell_type": "markdown",
   "metadata": {},
   "source": [
    "El primer % indica que en esa posición se va a escribir un valor, el cual se encuentra después de la coma\n",
    ".2 indica el número de decimales que queremos mostrar.\n",
    "La f indica que el número es tipo float o double."
   ]
  }
 ],
 "metadata": {
  "kernelspec": {
   "display_name": "Java",
   "language": "java",
   "name": "java"
  },
  "language_info": {
   "codemirror_mode": "java",
   "file_extension": ".java",
   "mimetype": "text/x-java-source",
   "name": "Java",
   "pygments_lexer": "java",
   "version": "10.0.2+13-Ubuntu-1ubuntu0.18.04.4"
  }
 },
 "nbformat": 4,
 "nbformat_minor": 2
}
