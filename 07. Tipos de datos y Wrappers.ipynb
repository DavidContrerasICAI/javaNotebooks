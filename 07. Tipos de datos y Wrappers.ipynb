{
 "cells": [
  {
   "cell_type": "markdown",
   "metadata": {},
   "source": [
    "# Tipos de datos y Wrappers"
   ]
  },
  {
   "cell_type": "markdown",
   "metadata": {},
   "source": [
    "## Tipos de datos"
   ]
  },
  {
   "cell_type": "raw",
   "metadata": {},
   "source": [
    "* Enteros:\n",
    "byte – 8 bits – valor por defecto: 0\n",
    "short – 16 bits – 0\n",
    "int – 32 bits – 0\n",
    "long – 64 bits – 0\n",
    "\n",
    "* Reales en coma flotante:\n",
    "float – 32 bits IEEE 754 – valor por defecto: +0.0f\n",
    "double – 64 bits IEEE 754 – valor por defecto: +0.0d\n",
    "\n",
    "* Booleanos:\n",
    "boolean – valor por defecto: false\n",
    "\n",
    "* Caracteres\n",
    "char - 16 bits sin signo – valor pro defecto: ‘\\u0000’"
   ]
  },
  {
   "cell_type": "markdown",
   "metadata": {},
   "source": [
    "## Caracteres"
   ]
  },
  {
   "cell_type": "raw",
   "metadata": {},
   "source": [
    "Existe varias formas de crear un carácter:\n",
    "‘a’ --> Carácter: Siempre utilizando la comilla simple.\n",
    "‘\\t’ --> Secuencia de escape: Tabulador.\n",
    "‘ ‘\\u????’ --> Carácter UNICODE en hexadecimal:La representación del carácter ‘A’ será ‘\\u0041’.\n",
    "65 --> Entero: Representación ASCII del carácter ‘A’.\n",
    "\n",
    "Los caracteres poseen total compatibilidad con los tipos enteros:\n",
    "char c='A';\n",
    "int a=1 + c; --> a tiene el valor 66\n",
    "char c2=(char)(1 + c); --> c2 tiene el valor ’B’.\n",
    "\n",
    "Tabla de secuencias de escape:\n",
    "'\\n' Nueva línea\n",
    "'\\t' tabulación\n",
    "'\\b' retorno\n",
    "'\\r' salto de carro\n",
    "'\\f' salto de hoja\n",
    "'\\'' comilla simple\n",
    "'\\\"' doble comilla\n",
    "'\\\\' barra invertida\n"
   ]
  },
  {
   "cell_type": "markdown",
   "metadata": {},
   "source": [
    "## Conversiones (Cast)"
   ]
  },
  {
   "cell_type": "markdown",
   "metadata": {},
   "source": [
    "En Java podemos hacer conversitiones de un tipo de dato a otro, sin embargo se debe tener en cuenta en algunos casos se puede perder información en la conversión.\n",
    "\n",
    "Cuando se produzca está situación deberemos indicarle de manera explícita al compilador el tipo al cual queremos convertir nuestro dato. De esta manera le estamos diciendo que \"ya sabemos\" que se puede perder información, en caso contrario se producirá un warning.\n",
    "\n",
    "Existen dos tipos de conversión, implícita (siempre que no se produzca pérdida de información) y explícita (siempre que se produzca o se pueda producir pérdida de información).\n"
   ]
  },
  {
   "cell_type": "markdown",
   "metadata": {},
   "source": [
    "### Cast implícito"
   ]
  },
  {
   "cell_type": "markdown",
   "metadata": {},
   "source": [
    "En este caso no hay ningun problema puesto que el número de bits de un int (16), cabe perfectamente en un long (32), por lo que no se produce pérdida de información."
   ]
  },
  {
   "cell_type": "code",
   "execution_count": 1,
   "metadata": {},
   "outputs": [
    {
     "name": "stdout",
     "output_type": "stream",
     "text": [
      "45\n",
      "45\n"
     ]
    }
   ],
   "source": [
    "int i = 45;\n",
    "long l = i;\n",
    "\n",
    "System.out.println(i);\n",
    "System.out.println(l);"
   ]
  },
  {
   "cell_type": "code",
   "execution_count": 2,
   "metadata": {},
   "outputs": [
    {
     "data": {
      "text/plain": [
       "5"
      ]
     },
     "execution_count": 2,
     "metadata": {},
     "output_type": "execute_result"
    }
   ],
   "source": [
    "2+3"
   ]
  },
  {
   "cell_type": "code",
   "execution_count": 4,
   "metadata": {},
   "outputs": [
    {
     "data": {
      "text/plain": [
       "HOL"
      ]
     },
     "execution_count": 4,
     "metadata": {},
     "output_type": "execute_result"
    }
   ],
   "source": [
    "\"hola\".toUpperCase().substring(0,3)"
   ]
  },
  {
   "cell_type": "markdown",
   "metadata": {},
   "source": [
    "### Cast explícito"
   ]
  },
  {
   "cell_type": "markdown",
   "metadata": {},
   "source": [
    "En cambio, en el caso inverso, puede haber pérdida de información y así lo indica el compilador."
   ]
  },
  {
   "cell_type": "code",
   "execution_count": 54,
   "metadata": {
    "scrolled": true
   },
   "outputs": [
    {
     "ename": "CompilationException",
     "evalue": "",
     "output_type": "error",
     "traceback": [
      "\u001b[1m\u001b[30m|   \u001b[1m\u001b[30mint i = \u001b[0m\u001b[1m\u001b[30m\u001b[41ml\u001b[0m\u001b[1m\u001b[30m;\u001b[0m",
      "\u001b[1m\u001b[31mincompatible types: possible lossy conversion from long to int\u001b[0m",
      ""
     ]
    }
   ],
   "source": [
    "long l = 45;\n",
    "int i = l;"
   ]
  },
  {
   "cell_type": "markdown",
   "metadata": {},
   "source": [
    "Para indicar al compilador que estamos asumiendo esta posible pérdida de información, pondremos entre paréntesis el tipo de dato al que queremos convertir."
   ]
  },
  {
   "cell_type": "code",
   "execution_count": 55,
   "metadata": {},
   "outputs": [
    {
     "name": "stdout",
     "output_type": "stream",
     "text": [
      "45\n",
      "45\n"
     ]
    }
   ],
   "source": [
    "long l = 45;\n",
    "int i = (int) l;\n",
    "\n",
    "System.out.println(i);\n",
    "System.out.println(l);"
   ]
  },
  {
   "cell_type": "markdown",
   "metadata": {},
   "source": [
    "Por defecto un número en coma flotante es un _double_"
   ]
  },
  {
   "cell_type": "code",
   "execution_count": 56,
   "metadata": {},
   "outputs": [],
   "source": [
    "double d = 45.56;"
   ]
  },
  {
   "cell_type": "markdown",
   "metadata": {},
   "source": [
    "Por ese motivo, la siguiente línea dará un error al poder perder información en el paso de un double a float:"
   ]
  },
  {
   "cell_type": "code",
   "execution_count": 57,
   "metadata": {},
   "outputs": [
    {
     "ename": "CompilationException",
     "evalue": "",
     "output_type": "error",
     "traceback": [
      "\u001b[1m\u001b[30m|   \u001b[1m\u001b[30mfloat f = \u001b[0m\u001b[1m\u001b[30m\u001b[41m45.56\u001b[0m\u001b[1m\u001b[30m;\u001b[0m",
      "\u001b[1m\u001b[31mincompatible types: possible lossy conversion from double to float\u001b[0m",
      ""
     ]
    }
   ],
   "source": [
    "float f = 45.56;"
   ]
  },
  {
   "cell_type": "markdown",
   "metadata": {},
   "source": [
    "Para solucionar esta asignación básica:"
   ]
  },
  {
   "cell_type": "code",
   "execution_count": 58,
   "metadata": {},
   "outputs": [],
   "source": [
    "float f = (float) 45.56;"
   ]
  },
  {
   "cell_type": "markdown",
   "metadata": {},
   "source": [
    "o "
   ]
  },
  {
   "cell_type": "code",
   "execution_count": 59,
   "metadata": {},
   "outputs": [],
   "source": [
    "float f = 45.56F;\n",
    "float f = 45.56f;"
   ]
  },
  {
   "cell_type": "markdown",
   "metadata": {},
   "source": [
    "### Ejemplo"
   ]
  },
  {
   "cell_type": "code",
   "execution_count": 60,
   "metadata": {},
   "outputs": [],
   "source": [
    "byte b = 45;"
   ]
  },
  {
   "cell_type": "code",
   "execution_count": 61,
   "metadata": {},
   "outputs": [],
   "source": [
    "int i = b;"
   ]
  },
  {
   "cell_type": "code",
   "execution_count": 62,
   "metadata": {},
   "outputs": [
    {
     "ename": "CompilationException",
     "evalue": "",
     "output_type": "error",
     "traceback": [
      "\u001b[1m\u001b[30m|   \u001b[1m\u001b[30mbyte b2 = \u001b[0m\u001b[1m\u001b[30m\u001b[41mi\u001b[0m\u001b[1m\u001b[30m;\u001b[0m",
      "\u001b[1m\u001b[31mincompatible types: possible lossy conversion from int to byte\u001b[0m",
      ""
     ]
    }
   ],
   "source": [
    "byte b2 = i;"
   ]
  },
  {
   "cell_type": "code",
   "execution_count": 63,
   "metadata": {},
   "outputs": [
    {
     "ename": "CompilationException",
     "evalue": "",
     "output_type": "error",
     "traceback": [
      "\u001b[1m\u001b[30m|   \u001b[1m\u001b[30mfloat f0 = \u001b[0m\u001b[1m\u001b[30m\u001b[41m45.7\u001b[0m\u001b[1m\u001b[30m;\u001b[0m",
      "\u001b[1m\u001b[31mincompatible types: possible lossy conversion from double to float\u001b[0m",
      ""
     ]
    }
   ],
   "source": [
    "float f0 = 45.7;"
   ]
  },
  {
   "cell_type": "code",
   "execution_count": 64,
   "metadata": {},
   "outputs": [],
   "source": [
    "float f1 = 45.7F;"
   ]
  },
  {
   "cell_type": "code",
   "execution_count": 65,
   "metadata": {},
   "outputs": [],
   "source": [
    "float f2 = (float) 45.7;"
   ]
  },
  {
   "cell_type": "code",
   "execution_count": 66,
   "metadata": {},
   "outputs": [
    {
     "ename": "CompilationException",
     "evalue": "",
     "output_type": "error",
     "traceback": [
      "\u001b[1m\u001b[30m|   \u001b[1m\u001b[30mfloat f3 = \u001b[0m\u001b[1m\u001b[30m\u001b[41m45.7\u001b[0m\u001b[1m\u001b[30m;\u001b[0m",
      "\u001b[1m\u001b[31mincompatible types: possible lossy conversion from double to float\u001b[0m",
      ""
     ]
    }
   ],
   "source": [
    "float f3 = 45.7;"
   ]
  },
  {
   "cell_type": "code",
   "execution_count": 67,
   "metadata": {},
   "outputs": [],
   "source": [
    "int i2 = 56; "
   ]
  },
  {
   "cell_type": "code",
   "execution_count": 68,
   "metadata": {},
   "outputs": [],
   "source": [
    "float f4 = i2;"
   ]
  },
  {
   "cell_type": "markdown",
   "metadata": {},
   "source": [
    "### Ejemplo de caracteres"
   ]
  },
  {
   "cell_type": "code",
   "execution_count": 5,
   "metadata": {},
   "outputs": [
    {
     "name": "stdout",
     "output_type": "stream",
     "text": [
      "A/A/A\n",
      "B\n",
      "Char: A Valor UTF-16: 65\n",
      "Char: B Valor UTF-16: 66\n",
      "Char: C Valor UTF-16: 67\n",
      "Char: D Valor UTF-16: 68\n",
      "Char: E Valor UTF-16: 69\n",
      "Char: F Valor UTF-16: 70\n",
      "Char: G Valor UTF-16: 71\n",
      "Char: H Valor UTF-16: 72\n",
      "Char: I Valor UTF-16: 73\n",
      "Char: J Valor UTF-16: 74\n",
      "Char: K Valor UTF-16: 75\n",
      "Char: L Valor UTF-16: 76\n",
      "Char: M Valor UTF-16: 77\n",
      "Char: N Valor UTF-16: 78\n",
      "Char: O Valor UTF-16: 79\n",
      "Char: P Valor UTF-16: 80\n",
      "Char: Q Valor UTF-16: 81\n",
      "Char: R Valor UTF-16: 82\n",
      "Char: S Valor UTF-16: 83\n",
      "Char: T Valor UTF-16: 84\n",
      "Char: U Valor UTF-16: 85\n",
      "Char: V Valor UTF-16: 86\n",
      "Char: W Valor UTF-16: 87\n",
      "Char: X Valor UTF-16: 88\n",
      "Char: Y Valor UTF-16: 89\n",
      "Char: Z Valor UTF-16: 90\n",
      "Char: [ Valor UTF-16: 91\n",
      "Char: \\ Valor UTF-16: 92\n",
      "Char: ] Valor UTF-16: 93\n",
      "Char: ^ Valor UTF-16: 94\n",
      "Char: _ Valor UTF-16: 95\n",
      "Char: ` Valor UTF-16: 96\n",
      "Char: a Valor UTF-16: 97\n",
      "Char: b Valor UTF-16: 98\n",
      "Char: c Valor UTF-16: 99\n",
      "Char: d Valor UTF-16: 100\n",
      "Char: e Valor UTF-16: 101\n",
      "Char: f Valor UTF-16: 102\n",
      "Char: g Valor UTF-16: 103\n",
      "Char: h Valor UTF-16: 104\n",
      "Char: i Valor UTF-16: 105\n",
      "Char: j Valor UTF-16: 106\n",
      "Char: k Valor UTF-16: 107\n",
      "Char: l Valor UTF-16: 108\n",
      "Char: m Valor UTF-16: 109\n",
      "Char: n Valor UTF-16: 110\n",
      "Char: o Valor UTF-16: 111\n",
      "Char: p Valor UTF-16: 112\n",
      "Char: q Valor UTF-16: 113\n",
      "Char: r Valor UTF-16: 114\n",
      "Char: s Valor UTF-16: 115\n",
      "Char: t Valor UTF-16: 116\n",
      "Char: u Valor UTF-16: 117\n",
      "Char: v Valor UTF-16: 118\n",
      "Char: w Valor UTF-16: 119\n",
      "Char: x Valor UTF-16: 120\n",
      "Char: y Valor UTF-16: 121\n",
      "Char: z Valor UTF-16: 122\n",
      "Char: { Valor UTF-16: 123\n",
      "Char: | Valor UTF-16: 124\n",
      "Char: } Valor UTF-16: 125\n",
      "Char: ~ Valor UTF-16: 126\n",
      "Char:  Valor UTF-16: 127\n",
      "Char:  Valor UTF-16: 128\n",
      "Char:  Valor UTF-16: 129\n",
      "Char:  Valor UTF-16: 130\n",
      "Char:  Valor UTF-16: 131\n",
      "Char:  Valor UTF-16: 132\n",
      "Char: ",
      " Valor UTF-16: 133\n",
      "Char:  Valor UTF-16: 134\n",
      "Char:  Valor UTF-16: 135\n",
      "Char:  Valor UTF-16: 136\n",
      "Char:  Valor UTF-16: 137\n",
      "Char:  Valor UTF-16: 138\n",
      "Char:  Valor UTF-16: 139\n",
      "Char:  Valor UTF-16: 140\n",
      "Char:  Valor UTF-16: 141\n",
      "Char:  Valor UTF-16: 142\n",
      "Char:  Valor UTF-16: 143\n",
      "Char:  Valor UTF-16: 144\n",
      "Char:  Valor UTF-16: 145\n",
      "Char:  Valor UTF-16: 146\n",
      "Char:  Valor UTF-16: 147\n",
      "Char:  Valor UTF-16: 148\n",
      "Char:  Valor UTF-16: 149\n",
      "Char:  Valor UTF-16: 150\n",
      "Char:  Valor UTF-16: 151\n",
      "Char:  Valor UTF-16: 152\n",
      "Char:  Valor UTF-16: 153\n",
      "Char:  Valor UTF-16: 154\n",
      "Char:  Valor UTF-16: 155\n",
      "Char:  Valor UTF-16: 156\n",
      "Char:  Valor UTF-16: 157\n",
      "Char:  Valor UTF-16: 158\n",
      "Char:  Valor UTF-16: 159\n",
      "Char:   Valor UTF-16: 160\n",
      "Char: ¡ Valor UTF-16: 161\n",
      "Char: ¢ Valor UTF-16: 162\n",
      "Char: £ Valor UTF-16: 163\n",
      "Char: ¤ Valor UTF-16: 164\n",
      "Char: ¥ Valor UTF-16: 165\n",
      "Char: ¦ Valor UTF-16: 166\n",
      "Char: § Valor UTF-16: 167\n",
      "Char: ¨ Valor UTF-16: 168\n",
      "Char: © Valor UTF-16: 169\n",
      "Char: ª Valor UTF-16: 170\n",
      "Char: « Valor UTF-16: 171\n",
      "Char: ¬ Valor UTF-16: 172\n",
      "Char: ­ Valor UTF-16: 173\n",
      "Char: ® Valor UTF-16: 174\n",
      "Char: ¯ Valor UTF-16: 175\n",
      "Char: ° Valor UTF-16: 176\n",
      "Char: ± Valor UTF-16: 177\n",
      "Char: ² Valor UTF-16: 178\n"
     ]
    }
   ],
   "source": [
    "    char c1 = 65; //En binario 0100 0001\n",
    "    char c2 = '\\u0041'; //En hexadecimal 0100 -> 4 0001 -> 1 : 41\n",
    "    char c3 = 'A'; \n",
    "    System.out.println(c1 + \"/\" + c2 + \"/\" + c3 );\n",
    "    \n",
    "    char c4 = (char) (c1 + 1);\n",
    "    System.out.println(c4);\n",
    "    \n",
    "    for(int j=65;j<179;j++)\n",
    "        System.out.println(\"Char: \" + (char)j + \" Valor UTF-16: \" + j);\n"
   ]
  },
  {
   "cell_type": "markdown",
   "metadata": {},
   "source": [
    "## Wrappers"
   ]
  },
  {
   "cell_type": "markdown",
   "metadata": {},
   "source": [
    "https://docs.oracle.com/javase/7/docs/api/java/lang/Integer.html"
   ]
  },
  {
   "cell_type": "raw",
   "metadata": {},
   "source": [
    "En Java tenemos un conjunto de clases que permiten trabajar con tipos de datos como si fuesen objetos.A estas clases se las denomina envoltorios o wrappers. Utilizaremos estas clases cuando tengamos que trabajar obligatoriamente con objetos. La correspondencia entre tipos y objetos se define a continuación:\n",
    "\n",
    "int <--> Integer\n",
    "boolean <--> Boolean\n",
    "char <--> Character\n",
    "double <--> Double\n",
    "float <--> Float\n",
    "long <--> Long"
   ]
  },
  {
   "cell_type": "markdown",
   "metadata": {},
   "source": [
    "### Conversiones de tipo básico a Objeto:"
   ]
  },
  {
   "cell_type": "markdown",
   "metadata": {},
   "source": [
    "Como en cualquier proceso de encapsulamiento, se invocará siempre al contructor del Wrapper correspondiente:"
   ]
  },
  {
   "cell_type": "raw",
   "metadata": {},
   "source": [
    "Se utilizarán los constructores de cada clase:\n",
    "*  int a Integer: Integer(int a)\n",
    "*  double a Double: Double(double a)\n",
    "*  long a Long: Long(long a)\n",
    "..."
   ]
  },
  {
   "cell_type": "code",
   "execution_count": 72,
   "metadata": {},
   "outputs": [
    {
     "data": {
      "text/plain": [
       "15"
      ]
     },
     "execution_count": 72,
     "metadata": {},
     "output_type": "execute_result"
    }
   ],
   "source": [
    "int entero = 15;\n",
    "Integer integer = new Integer(entero);\n",
    "integer"
   ]
  },
  {
   "cell_type": "markdown",
   "metadata": {},
   "source": [
    "### Conversiones de Objeto a tipo básico:"
   ]
  },
  {
   "cell_type": "raw",
   "metadata": {},
   "source": [
    "Se utilizarán los métodos tipoValue() de cada clase:\n",
    "*  Integer a int: int intValue()\n",
    "*  Double a double: double doubleValue()\n",
    "*  Long a long: long longValue()\n",
    "..."
   ]
  },
  {
   "cell_type": "code",
   "execution_count": 73,
   "metadata": {
    "scrolled": true
   },
   "outputs": [
    {
     "data": {
      "text/plain": [
       "15"
      ]
     },
     "execution_count": 73,
     "metadata": {},
     "output_type": "execute_result"
    }
   ],
   "source": [
    "entero = integer.intValue();\n",
    "entero"
   ]
  },
  {
   "cell_type": "markdown",
   "metadata": {},
   "source": [
    "### Conversiones entre diferentes tipos de datos básicos"
   ]
  },
  {
   "cell_type": "raw",
   "metadata": {},
   "source": [
    "Para hacer estas conversiones hay que utilizar las clases Wrapper del tipo destino a convertir:\n",
    "\n",
    "Objeto a String: String toString()\n",
    "String a Integer: static Integer valueOf(String s)\n",
    "String a Float : static Float valueOf(String s)\n",
    "String a int (en Integer): static int parseInt(String s)\n",
    "String a float (en Float): static float parseFloat(String s)"
   ]
  },
  {
   "cell_type": "code",
   "execution_count": 77,
   "metadata": {},
   "outputs": [
    {
     "data": {
      "text/plain": [
       "34"
      ]
     },
     "execution_count": 77,
     "metadata": {},
     "output_type": "execute_result"
    }
   ],
   "source": [
    "String s = \"34\";\n",
    "Long miLong = Long.valueOf(s);\n",
    "miLong"
   ]
  },
  {
   "cell_type": "markdown",
   "metadata": {},
   "source": [
    "Si se desea convertir a int, busco en Integer."
   ]
  },
  {
   "cell_type": "code",
   "execution_count": 78,
   "metadata": {},
   "outputs": [
    {
     "name": "stdout",
     "output_type": "stream",
     "text": [
      "7\n"
     ]
    }
   ],
   "source": [
    "String s = \"7\";\n",
    "int a = Integer.parseInt(s);\n",
    "s = String.valueOf(a);\n",
    "\n",
    "System.out.println(s);"
   ]
  },
  {
   "cell_type": "code",
   "execution_count": 79,
   "metadata": {},
   "outputs": [
    {
     "name": "stdout",
     "output_type": "stream",
     "text": [
      "x\n"
     ]
    }
   ],
   "source": [
    "char c;\n",
    "Character ch= new Character('x');\n",
    "c=ch.charValue();\n",
    "\n",
    "System.out.println(c);"
   ]
  },
  {
   "cell_type": "markdown",
   "metadata": {},
   "source": [
    "## Autoboxing"
   ]
  },
  {
   "cell_type": "markdown",
   "metadata": {},
   "source": [
    "A partir de la versión 1.5 Java introduce el concepto de Autoboxing: permite asignaciones directas entre tipos y sus Wrappers. Ojo, es obligatorio conocer este hecho ya que no tendrá sentido utilizar Wrappers en operaciones artiméticas o como atributos, aunque Java permita esta asignación."
   ]
  },
  {
   "cell_type": "markdown",
   "metadata": {},
   "source": [
    "En el siguiente caso la sentencia..."
   ]
  },
  {
   "cell_type": "code",
   "execution_count": 82,
   "metadata": {},
   "outputs": [],
   "source": [
    "Integer miInteger = new Integer(34);"
   ]
  },
  {
   "cell_type": "markdown",
   "metadata": {},
   "source": [
    " equivaldría a la siguiente, haciéndose el encapsulado de forma implícita"
   ]
  },
  {
   "cell_type": "code",
   "execution_count": 83,
   "metadata": {},
   "outputs": [],
   "source": [
    "Integer miInteger = 34;"
   ]
  },
  {
   "cell_type": "code",
   "execution_count": 84,
   "metadata": {},
   "outputs": [],
   "source": [
    "int i = miInteger;"
   ]
  },
  {
   "cell_type": "markdown",
   "metadata": {},
   "source": [
    "OJO: En el examen no está permitido utilizar Autoboxing"
   ]
  },
  {
   "cell_type": "markdown",
   "metadata": {},
   "source": [
    "## Reto"
   ]
  },
  {
   "cell_type": "markdown",
   "metadata": {},
   "source": [
    "Realizar las siguientes conversiones: \n",
    "54.6 --> float --> char --> Character --> String --> Integer --> int --> float"
   ]
  }
 ],
 "metadata": {
  "kernelspec": {
   "display_name": "Java",
   "language": "java",
   "name": "java"
  },
  "language_info": {
   "codemirror_mode": "java",
   "file_extension": ".java",
   "mimetype": "text/x-java-source",
   "name": "Java",
   "pygments_lexer": "java",
   "version": "10.0.2+13-Ubuntu-1ubuntu0.18.04.4"
  }
 },
 "nbformat": 4,
 "nbformat_minor": 2
}
