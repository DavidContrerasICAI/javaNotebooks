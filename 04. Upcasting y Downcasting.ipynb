{
 "cells": [
  {
   "cell_type": "code",
   "execution_count": 163,
   "metadata": {},
   "outputs": [],
   "source": [
    "public class Persona\n",
    "{\n",
    "    String nombre;\n",
    "    int edad;\n",
    "\n",
    "    public Persona(String nombre, int edad)\n",
    "    {\n",
    "        this.nombre = nombre;\n",
    "        this.edad = edad;\n",
    "    }\n",
    "    \n",
    "    public String getNombre()\n",
    "    {\n",
    "        return nombre;\n",
    "    }\n",
    "\n",
    "    @Override\n",
    "    public String toString()\n",
    "    {\n",
    "        return nombre + \"(\" + edad + \")\"; \n",
    "    }\n",
    "}\n",
    "\n",
    "public class Trabajador extends Persona\n",
    "{\n",
    "    String profesion;\n",
    "\n",
    "    public Trabajador(String nombre, int edad, String profesion)\n",
    "    {\n",
    "        super(nombre, edad);\n",
    "        this.profesion = profesion;\n",
    "    }\n",
    "\n",
    "    public String getProfesion()\n",
    "    {\n",
    "        return profesion;\n",
    "    }\n",
    "\n",
    "    @Override\n",
    "    public String toString()\n",
    "    {\n",
    "        return super.toString() + profesion; \n",
    "    }\n",
    "}"
   ]
  },
  {
   "cell_type": "code",
   "execution_count": 164,
   "metadata": {},
   "outputs": [],
   "source": [
    "Persona persona = new Persona(\"Luis\", 22);\n",
    "Trabajador trabajador = new Trabajador(\"Jaime\", 33, \"Teleco en Telefónica\");"
   ]
  },
  {
   "cell_type": "code",
   "execution_count": 165,
   "metadata": {},
   "outputs": [
    {
     "data": {
      "text/plain": [
       "Luis"
      ]
     },
     "execution_count": 165,
     "metadata": {},
     "output_type": "execute_result"
    }
   ],
   "source": [
    "persona.getNombre();"
   ]
  },
  {
   "cell_type": "code",
   "execution_count": 166,
   "metadata": {},
   "outputs": [
    {
     "data": {
      "text/plain": [
       "Teleco en Telefónica"
      ]
     },
     "execution_count": 166,
     "metadata": {},
     "output_type": "execute_result"
    }
   ],
   "source": [
    "trabajador.getProfesion();"
   ]
  },
  {
   "cell_type": "markdown",
   "metadata": {},
   "source": [
    "###### Upcasting"
   ]
  },
  {
   "cell_type": "code",
   "execution_count": 167,
   "metadata": {},
   "outputs": [],
   "source": [
    "Persona p = trabajador;"
   ]
  },
  {
   "cell_type": "markdown",
   "metadata": {},
   "source": [
    "El método *getProfesion()* no está en el interfaz de Persona"
   ]
  },
  {
   "cell_type": "code",
   "execution_count": 168,
   "metadata": {},
   "outputs": [
    {
     "ename": "CompilationException",
     "evalue": "",
     "output_type": "error",
     "traceback": [
      "\u001b[1m\u001b[30m|   \u001b[1m\u001b[30m\u001b[0m\u001b[1m\u001b[30m\u001b[41mp.getProfesion\u001b[0m\u001b[1m\u001b[30m();\u001b[0m",
      "\u001b[1m\u001b[31mcannot find symbol\u001b[0m",
      "\u001b[1m\u001b[31m  symbol:   method getProfesion()\u001b[0m",
      ""
     ]
    }
   ],
   "source": [
    "p.getProfesion();"
   ]
  },
  {
   "cell_type": "markdown",
   "metadata": {},
   "source": [
    "###### Downcasting"
   ]
  },
  {
   "cell_type": "code",
   "execution_count": 15,
   "metadata": {},
   "outputs": [],
   "source": [
    "Trabajador t = (Trabajador) p;"
   ]
  },
  {
   "cell_type": "code",
   "execution_count": 16,
   "metadata": {},
   "outputs": [
    {
     "data": {
      "text/plain": [
       "Teleco en Telefónica"
      ]
     },
     "execution_count": 16,
     "metadata": {},
     "output_type": "execute_result"
    }
   ],
   "source": [
    "t.getProfesion();"
   ]
  },
  {
   "cell_type": "markdown",
   "metadata": {},
   "source": [
    "Para evitar problemas futuros, siempre se recomienda verificar el tipo de objeto antes de hacer un Downcasting"
   ]
  },
  {
   "cell_type": "code",
   "execution_count": 17,
   "metadata": {},
   "outputs": [
    {
     "ename": "CompilationException",
     "evalue": "",
     "output_type": "error",
     "traceback": [
      "\u001b[1m\u001b[30m|   \u001b[1m\u001b[30mTrabajador t = (Trabajador) \u001b[0m\u001b[1m\u001b[30m\u001b[41ms1\u001b[0m\u001b[1m\u001b[30m;\u001b[0m",
      "\u001b[1m\u001b[31mincompatible types: java.lang.String cannot be converted to Trabajador\u001b[0m",
      ""
     ]
    }
   ],
   "source": [
    "String s1 = \"Hola\";\n",
    "Trabajador t = (Trabajador) s1;"
   ]
  },
  {
   "cell_type": "raw",
   "metadata": {},
   "source": [
    "if(s1 instanceof Trabajador)\n",
    "    t = (Trabajador) s1;"
   ]
  }
 ],
 "metadata": {
  "kernelspec": {
   "display_name": "Java",
   "language": "java",
   "name": "java"
  },
  "language_info": {
   "codemirror_mode": "java",
   "file_extension": ".java",
   "mimetype": "text/x-java-source",
   "name": "Java",
   "pygments_lexer": "java",
   "version": "10.0.2+13-Ubuntu-1ubuntu0.18.04.4"
  }
 },
 "nbformat": 4,
 "nbformat_minor": 2
}
