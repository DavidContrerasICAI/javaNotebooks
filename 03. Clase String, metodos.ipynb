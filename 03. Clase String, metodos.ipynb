{
 "cells": [
  {
   "cell_type": "markdown",
   "metadata": {},
   "source": [
    "# 03 - Clase String, metodos"
   ]
  },
  {
   "cell_type": "markdown",
   "metadata": {},
   "source": [
    "API: https://docs.oracle.com/javase/9/docs/api/java/lang/String.html"
   ]
  },
  {
   "cell_type": "markdown",
   "metadata": {},
   "source": [
    "La clase String representa cadenas de caracteres. Todas las combinaciones de palabras y caracteres, como “Hola, soy Álex”, o simplemente, “abc”, se implementan con instancias de esta clase.\n",
    "\n",
    "Los Strings son constantes, es decir, sus valores no se pueden modificar una vez se crean. Sin embargo, existen otras clases como StringBuffer o StringBuilder que, como veremos más adelante, sí son modificables.\n",
    "\n",
    "La clase String incluye métodos para examinar caracteres individuales de la cadena, para comparar strings, buscar strings, extraer partes de un string para crear substrings, y para crear una copia exacta de un string poniendo todos sus caracteres como mayúsculas o minúsculas.\n",
    "\n",
    "Java ofrece una ayuda especial para la concatenación, unión, de strings con el operador (+), que también sirve para la conversión de objetos a strings. \n",
    "\n",
    "Es importante destacar que un objeto String creado a partir de un argumento nulo en el constructor provocará un error NullPointerException.\n"
   ]
  },
  {
   "cell_type": "markdown",
   "metadata": {},
   "source": [
    "### Definición de objetos String"
   ]
  },
  {
   "cell_type": "code",
   "execution_count": 1,
   "metadata": {},
   "outputs": [],
   "source": [
    "String s1 = \"Madrid\";\n",
    "String s2 = \"Barcelona\";\n",
    "String s3 = \"Valencia\";"
   ]
  },
  {
   "cell_type": "markdown",
   "metadata": {},
   "source": [
    "### Operaciones básicas"
   ]
  },
  {
   "cell_type": "code",
   "execution_count": 2,
   "metadata": {},
   "outputs": [],
   "source": [
    "String concatenacion = s1 + \", \" + s2 + \", \" + s3;"
   ]
  },
  {
   "cell_type": "code",
   "execution_count": 3,
   "metadata": {},
   "outputs": [
    {
     "data": {
      "text/plain": [
       "Madrid, Barcelona, Valencia"
      ]
     },
     "execution_count": 3,
     "metadata": {},
     "output_type": "execute_result"
    }
   ],
   "source": [
    "concatenacion"
   ]
  },
  {
   "cell_type": "markdown",
   "metadata": {},
   "source": [
    "#### Reto 1 \n",
    "---\n",
    "Obtén un String llamado reto1 con la cadena: ```Madrid 1 - Barcelona 1```"
   ]
  },
  {
   "cell_type": "code",
   "execution_count": 1,
   "metadata": {},
   "outputs": [],
   "source": []
  },
  {
   "cell_type": "markdown",
   "metadata": {},
   "source": [
    "### Métodos básicos"
   ]
  },
  {
   "cell_type": "code",
   "execution_count": 4,
   "metadata": {},
   "outputs": [
    {
     "data": {
      "text/plain": [
       "Madrid"
      ]
     },
     "execution_count": 4,
     "metadata": {},
     "output_type": "execute_result"
    }
   ],
   "source": [
    "s1 //Devuelve el valor guardado en el string s1 "
   ]
  },
  {
   "cell_type": "code",
   "execution_count": 15,
   "metadata": {},
   "outputs": [
    {
     "data": {
      "text/plain": [
       "6"
      ]
     },
     "execution_count": 15,
     "metadata": {},
     "output_type": "execute_result"
    }
   ],
   "source": [
    "s1.length(); //Devuelve la longitud de la cadena"
   ]
  },
  {
   "cell_type": "code",
   "execution_count": 17,
   "metadata": {},
   "outputs": [
    {
     "data": {
      "text/plain": [
       "i"
      ]
     },
     "execution_count": 17,
     "metadata": {},
     "output_type": "execute_result"
    }
   ],
   "source": [
    "s1.charAt(4); //Devuelve el caracter en la posición indicada"
   ]
  }
 ],
 "metadata": {
  "kernelspec": {
   "display_name": "Java",
   "language": "java",
   "name": "java"
  },
  "language_info": {
   "codemirror_mode": "java",
   "file_extension": ".java",
   "mimetype": "text/x-java-source",
   "name": "Java",
   "pygments_lexer": "java",
   "version": "10.0.2+13-Ubuntu-1ubuntu0.18.04.4"
  }
 },
 "nbformat": 4,
 "nbformat_minor": 2
}
