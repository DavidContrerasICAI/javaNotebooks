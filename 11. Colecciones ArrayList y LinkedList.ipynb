{
 "cells": [
  {
   "cell_type": "markdown",
   "metadata": {},
   "source": [
    "# Clase ArrayList"
   ]
  },
  {
   "cell_type": "markdown",
   "metadata": {},
   "source": [
    "https://docs.oracle.com/javase/8/docs/api/java/util/ArrayList.html"
   ]
  },
  {
   "cell_type": "markdown",
   "metadata": {},
   "source": [
    "La clase ArrayList de Java es una clase que permite almacenar datos en memoria de manera parecida a los Arrays, con la ventaja de que no es necesario declarar el tamaño del ArrayList y por tanto, el número de elementos a introducir es variable, es decir, la asignación de memoria es dinámica. Como implementa la clase List, admite duplicados en el contenido de esta, y por tratarse de ser un ArrayList, las búsquedas de elementos se realizan de manera muy rápida.\n",
    "\n",
    "Since:\n",
    "1.2\n",
    "See Also:\n",
    "Collection, List, LinkedList, Vector, Serialized Form"
   ]
  },
  {
   "cell_type": "markdown",
   "metadata": {},
   "source": [
    "## Métodos"
   ]
  },
  {
   "cell_type": "markdown",
   "metadata": {},
   "source": [
    "Declaración de un ArrayList de \"String\". Puede ser de cualquier otro Elemento u Objeto (float, Boolean, Object, ...). También puede crearse de forma genérica si no se especifica el tipo de elementos que va a contener."
   ]
  },
  {
   "cell_type": "code",
   "execution_count": 3,
   "metadata": {},
   "outputs": [],
   "source": [
    "ArrayList<String> miArrayList = new ArrayList<String>();"
   ]
  },
  {
   "cell_type": "markdown",
   "metadata": {},
   "source": [
    "Se pueden añadir elementos al ArrayList con el método add y añadir un elemento al ArrayList en la posición 'n'. Los ArrayList empiezan en la posición 0."
   ]
  },
  {
   "cell_type": "code",
   "execution_count": 51,
   "metadata": {},
   "outputs": [
    {
     "data": {
      "text/plain": [
       "[Juan, Manuel, Alvaro, Andrea]"
      ]
     },
     "execution_count": 51,
     "metadata": {},
     "output_type": "execute_result"
    }
   ],
   "source": [
    "String p1 = \"Juan\";\n",
    "String p2 = \"Manuel\";\n",
    "String p3 = \"Andrea\";\n",
    "String p4 = \"Alvaro\";\n",
    "\n",
    "int n = 1;\n",
    "\n",
    "miArrayList.add(p1);\n",
    "miArrayList.add(p2);\n",
    "miArrayList.add(p3);\n",
    "miArrayList.add(2, p4);\n",
    "\n",
    "miArrayList.toString();"
   ]
  },
  {
   "cell_type": "raw",
   "metadata": {},
   "source": [
    "Para devolver el numero de elementos del ArrayList usamos el método size.\n",
    "Para devolver el elemento que esta en la posición '2' del ArrayList usamos el método get.\n",
    "Para comprobar si existe el elemento ('Juan') que se le pasa como parametro, usamos el método contains."
   ]
  },
  {
   "cell_type": "code",
   "execution_count": 52,
   "metadata": {},
   "outputs": [
    {
     "name": "stdout",
     "output_type": "stream",
     "text": [
      "4\n",
      "Manuel\n",
      "true\n",
      "false\n"
     ]
    }
   ],
   "source": [
    "System.out.println(miArrayList.size());\n",
    "System.out.println(miArrayList.get(1));\n",
    "System.out.println(miArrayList.contains(\"Juan\"));\n",
    "System.out.println(miArrayList.contains(\"Maria\"));"
   ]
  },
  {
   "cell_type": "raw",
   "metadata": {},
   "source": [
    "Para devolver la posición de la primera ocurrencia (\"Elemento\") en el ArrayList usamos el método indexOf.\n",
    "Para devolver la posición de la última ocurrencia (\"Elemento\") en el ArrayList usamos el método lastIndexOf."
   ]
  },
  {
   "cell_type": "code",
   "execution_count": 53,
   "metadata": {},
   "outputs": [
    {
     "name": "stdout",
     "output_type": "stream",
     "text": [
      "1\n",
      "4\n"
     ]
    }
   ],
   "source": [
    "System.out.println(miArrayList.indexOf(\"Manuel\"));   \n",
    "miArrayList.add(\"Manuel\");\n",
    "System.out.println(miArrayList.lastIndexOf(\"Manuel\"));"
   ]
  },
  {
   "cell_type": "raw",
   "metadata": {},
   "source": [
    "Para borrar el elemento de la posición '5' del ArrayList usamos el método remove usamos el método remove.\n",
    "Para borrar la primera ocurrencia del 'Elemento' que se le pasa como parametro usamos el método remove.  \n",
    "Para borrar todos los elementos de ArrayList usamos el método clear.\n",
    "Para saber si un ArrayList está vacío usamos el método isEmpty, que devuelve True si el ArrayList esta vacio,\n",
    "si no Devuelve False. "
   ]
  },
  {
   "cell_type": "code",
   "execution_count": 54,
   "metadata": {},
   "outputs": [
    {
     "data": {
      "text/plain": [
       "[Juan, Manuel, Alvaro, Andrea]"
      ]
     },
     "execution_count": 54,
     "metadata": {},
     "output_type": "execute_result"
    }
   ],
   "source": [
    "miArrayList.remove(4); \n",
    "miArrayList.toString();"
   ]
  },
  {
   "cell_type": "code",
   "execution_count": 55,
   "metadata": {},
   "outputs": [
    {
     "data": {
      "text/plain": [
       "[Juan, Alvaro, Andrea]"
      ]
     },
     "execution_count": 55,
     "metadata": {},
     "output_type": "execute_result"
    }
   ],
   "source": [
    "miArrayList.remove(\"Manuel\");\n",
    "miArrayList.toString();"
   ]
  },
  {
   "cell_type": "code",
   "execution_count": 56,
   "metadata": {},
   "outputs": [
    {
     "name": "stdout",
     "output_type": "stream",
     "text": [
      "true\n"
     ]
    }
   ],
   "source": [
    "miArrayList.clear();\n",
    "miArrayList.toString();\n",
    "System.out.println(miArrayList.isEmpty()); "
   ]
  },
  {
   "cell_type": "raw",
   "metadata": {},
   "source": [
    "Para copiar un ArrayList usamos el método clone.\n",
    "Para pasar el ArrayList a un Array usamos el método toArray."
   ]
  },
  {
   "cell_type": "code",
   "execution_count": 57,
   "metadata": {},
   "outputs": [
    {
     "data": {
      "text/plain": [
       "[David, Ignacio]"
      ]
     },
     "execution_count": 57,
     "metadata": {},
     "output_type": "execute_result"
    }
   ],
   "source": [
    "ArrayList<String> miArrayList = new ArrayList<String>();\n",
    "\n",
    "miArrayList.add(\"David\");\n",
    "miArrayList.add(\"Ignacio\");\n",
    "\n",
    "ArrayList arrayListCopia = (ArrayList) miArrayList.clone();\n",
    "arrayListCopia.toString();"
   ]
  },
  {
   "cell_type": "code",
   "execution_count": 59,
   "metadata": {},
   "outputs": [],
   "source": [
    "Object[] array = miArrayList.toArray();"
   ]
  },
  {
   "cell_type": "markdown",
   "metadata": {},
   "source": [
    "# Clase LinkedList"
   ]
  },
  {
   "cell_type": "markdown",
   "metadata": {},
   "source": [
    "https://docs.oracle.com/javase/7/docs/api/java/util/LinkedList.html"
   ]
  },
  {
   "cell_type": "markdown",
   "metadata": {},
   "source": [
    "La clase LinkedList también implementa la clase List de Java, permite insertar y eliminar elementos usando iteradores, sin embargo, como el acceso se realiza de manera secuencial, para encontrar un elemento se necesita un tiempo proporcional al tamaño de la lista. Así pues, usaremos LinkedList cuando tengamos que realizar muchas inserciones y borrados de elementos, y ArrayList cuando tengamos que realizar búsquedas dentro de nuestra lista.\n",
    "\n",
    "Since:\n",
    "1.2\n",
    "See Also:\n",
    "List, ArrayList, Serialized Form"
   ]
  },
  {
   "cell_type": "markdown",
   "metadata": {},
   "source": [
    "## Métodos"
   ]
  },
  {
   "cell_type": "markdown",
   "metadata": {},
   "source": [
    "Para añadir elementos a nuestra LinkedList usamos los métodos add, addFirst, addLast y set.\n",
    "add y addLast añaden el elemento al final de la lista.\n",
    "addFirst añade el elemento al principio de la lista.\n",
    "set sustituye el contenido de la casilla n por el elemento paasado como argumento."
   ]
  },
  {
   "cell_type": "code",
   "execution_count": 72,
   "metadata": {},
   "outputs": [
    {
     "data": {
      "text/plain": [
       "[0, elemento, 2, 3, 4]"
      ]
     },
     "execution_count": 72,
     "metadata": {},
     "output_type": "execute_result"
    }
   ],
   "source": [
    "LinkedList<String> miLinkedList = new LinkedList<String>();\n",
    "         \n",
    "miLinkedList.add(\"1\"); \n",
    "miLinkedList.addFirst(\"0\"); \n",
    "miLinkedList.addLast(\"2\");\n",
    "miLinkedList.addLast(\"3\"); \n",
    "miLinkedList.addLast(\"4\");\n",
    "miLinkedList.set(1, \"elemento\"); \n",
    "\n",
    "miLinkedList.toString();"
   ]
  },
  {
   "cell_type": "markdown",
   "metadata": {},
   "source": [
    "El método isEmpty devuelve si la lista está vacía o no."
   ]
  },
  {
   "cell_type": "code",
   "execution_count": 73,
   "metadata": {},
   "outputs": [
    {
     "data": {
      "text/plain": [
       "false"
      ]
     },
     "execution_count": 73,
     "metadata": {},
     "output_type": "execute_result"
    }
   ],
   "source": [
    "miLinkedList.isEmpty();"
   ]
  },
  {
   "cell_type": "markdown",
   "metadata": {},
   "source": [
    "El método get recupera el contenido de la posición que se le pasa como argumento.\n",
    "El método getFirst recupera el contenido de la primera posición de la lista.\n",
    "El método getLast recupera el contenido de la última posición de la lista."
   ]
  },
  {
   "cell_type": "code",
   "execution_count": 75,
   "metadata": {},
   "outputs": [
    {
     "name": "stdout",
     "output_type": "stream",
     "text": [
      "elemento\n",
      "0\n",
      "4\n"
     ]
    }
   ],
   "source": [
    "System.out.println(miLinkedList.get(1));\n",
    "System.out.println(miLinkedList.getFirst());\n",
    "System.out.println(miLinkedList.getLast()); "
   ]
  },
  {
   "cell_type": "markdown",
   "metadata": {},
   "source": [
    "Para borrar el elemento n de la lista usamos el método remove, pasándole la posición n como argumento.\n",
    "Para buscar y borrar un elemento le pasamos al método remove el elemento como argumento.\n",
    "Para borrar el primer elemento usamos el método removeFirst.\n",
    "Para borrar el último elemento usamos el método removeLast."
   ]
  },
  {
   "cell_type": "code",
   "execution_count": 76,
   "metadata": {},
   "outputs": [
    {
     "data": {
      "text/plain": [
       "[elemento, 2, 3, 4]"
      ]
     },
     "execution_count": 76,
     "metadata": {},
     "output_type": "execute_result"
    }
   ],
   "source": [
    "miLinkedList.remove(0);\n",
    "miLinkedList.toString();"
   ]
  },
  {
   "cell_type": "code",
   "execution_count": 77,
   "metadata": {},
   "outputs": [
    {
     "data": {
      "text/plain": [
       "[2, 3, 4]"
      ]
     },
     "execution_count": 77,
     "metadata": {},
     "output_type": "execute_result"
    }
   ],
   "source": [
    "miLinkedList.remove(\"elemento\");\n",
    "miLinkedList.toString();"
   ]
  },
  {
   "cell_type": "code",
   "execution_count": 78,
   "metadata": {},
   "outputs": [
    {
     "data": {
      "text/plain": [
       "[3, 4]"
      ]
     },
     "execution_count": 78,
     "metadata": {},
     "output_type": "execute_result"
    }
   ],
   "source": [
    "miLinkedList.removeFirst();\n",
    "miLinkedList.toString();"
   ]
  },
  {
   "cell_type": "code",
   "execution_count": 79,
   "metadata": {},
   "outputs": [
    {
     "data": {
      "text/plain": [
       "[3]"
      ]
     },
     "execution_count": 79,
     "metadata": {},
     "output_type": "execute_result"
    }
   ],
   "source": [
    "miLinkedList.removeLast();\n",
    "miLinkedList.toString();"
   ]
  },
  {
   "cell_type": "markdown",
   "metadata": {},
   "source": [
    "Para saber si un elemento está o no en la lista usamos el método contains.\n",
    "Para saber el tamaño de la lista usamos el método size.\n",
    "Para vaciar la lista usamos el método clear."
   ]
  },
  {
   "cell_type": "code",
   "execution_count": 81,
   "metadata": {},
   "outputs": [
    {
     "data": {
      "text/plain": [
       "false"
      ]
     },
     "execution_count": 81,
     "metadata": {},
     "output_type": "execute_result"
    }
   ],
   "source": [
    "miLinkedList.contains(\"2\");"
   ]
  },
  {
   "cell_type": "code",
   "execution_count": 82,
   "metadata": {},
   "outputs": [
    {
     "data": {
      "text/plain": [
       "1"
      ]
     },
     "execution_count": 82,
     "metadata": {},
     "output_type": "execute_result"
    }
   ],
   "source": [
    "miLinkedList.size();"
   ]
  },
  {
   "cell_type": "code",
   "execution_count": 84,
   "metadata": {},
   "outputs": [
    {
     "data": {
      "text/plain": [
       "[]"
      ]
     },
     "execution_count": 84,
     "metadata": {},
     "output_type": "execute_result"
    }
   ],
   "source": [
    "miLinkedList.clear();\n",
    "miLinkedList.toString();"
   ]
  }
 ],
 "metadata": {
  "kernelspec": {
   "display_name": "Java",
   "language": "java",
   "name": "java"
  },
  "language_info": {
   "codemirror_mode": "java",
   "file_extension": ".java",
   "mimetype": "text/x-java-source",
   "name": "Java",
   "pygments_lexer": "java",
   "version": "10.0.2+13-Ubuntu-1ubuntu0.18.04.4"
  }
 },
 "nbformat": 4,
 "nbformat_minor": 2
}
