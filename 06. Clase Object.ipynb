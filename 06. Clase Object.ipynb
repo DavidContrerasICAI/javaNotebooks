{
 "cells": [
  {
   "cell_type": "markdown",
   "metadata": {},
   "source": [
    "# Clase Object"
   ]
  },
  {
   "cell_type": "markdown",
   "metadata": {},
   "source": [
    "https://docs.oracle.com/javase/7/docs/api/java/lang/Object.html"
   ]
  },
  {
   "cell_type": "markdown",
   "metadata": {},
   "source": [
    "Class Object is the root of the class hierarchy. Every class has Object as a superclass. All objects, including arrays, implement the methods of this class.\n",
    "\n",
    "Methods:\n",
    "\n",
    "* public String toString()\n",
    "\n",
    "Returns a string representation of the object. In general, the toString method returns a string that \"textually represents\" this object. The result should be a concise but informative representation that is easy for a person to read. It is recommended that all subclasses override this method.\n",
    "\n",
    "* public boolean equals(Object obj)\n",
    "\n",
    "Indicates whether some other object is \"equal to\" this one.\n",
    "The equals method implements an equivalence relation on non-null object references:\n",
    "\n",
    "It is reflexive: for any non-null reference value x, x.equals(x) should return true.\n",
    "It is symmetric: for any non-null reference values x and y, x.equals(y) should return true if and only if y.equals(x) returns true.\n",
    "It is transitive: for any non-null reference values x, y, and z, if x.equals(y) returns true and y.equals(z) returns true, then x.equals(z) should return true.\n",
    "It is consistent: for any non-null reference values x and y, multiple invocations of x.equals(y) consistently return true or consistently return false, provided no information used in equals comparisons on the objects is modified.\n",
    "For any non-null reference value x, x.equals(null) should return false.\n",
    "The equals method for class Object implements the most discriminating possible equivalence relation on objects; that is, for any non-null reference values x and y, this method returns true if and only if x and y refer to the same object (x == y has the value true).\n",
    "\n",
    "Note that it is generally necessary to override the hashCode method whenever this method is overridden, so as to maintain the general contract for the hashCode method, which states that equal objects must have equal hash codes.\n",
    "\n",
    "Parameters:\n",
    "obj - the reference object with which to compare.\n",
    "Returns:\n",
    "true if this object is the same as the obj argument; false otherwise."
   ]
  },
  {
   "cell_type": "markdown",
   "metadata": {},
   "source": [
    "## Object es la superclase de todas las clases Java"
   ]
  },
  {
   "cell_type": "markdown",
   "metadata": {},
   "source": [
    "Toda clase definida en Java hace un extends de la clase Object implícitamente"
   ]
  },
  {
   "cell_type": "code",
   "execution_count": 27,
   "metadata": {},
   "outputs": [],
   "source": [
    "class Persona extends Object\n",
    "{\n",
    "\n",
    "}"
   ]
  },
  {
   "cell_type": "code",
   "execution_count": 28,
   "metadata": {},
   "outputs": [
    {
     "data": {
      "text/plain": [
       "true"
      ]
     },
     "execution_count": 28,
     "metadata": {},
     "output_type": "execute_result"
    }
   ],
   "source": [
    "Persona p = new Persona();\n",
    "p instanceof Object;"
   ]
  },
  {
   "cell_type": "markdown",
   "metadata": {},
   "source": [
    "Por ese motivo, no se explicita y se omite"
   ]
  },
  {
   "cell_type": "code",
   "execution_count": 29,
   "metadata": {},
   "outputs": [],
   "source": [
    "class Persona\n",
    "{       \n",
    "    String nombre;\n",
    "    int edad;\n",
    "    \n",
    "    Persona(String nombre, int edad) \n",
    "    {\n",
    "        this.nombre = nombre;\n",
    "        this.edad = edad;\n",
    "    }\n",
    "    \n",
    "    String getInfo()\n",
    "    {\n",
    "        return \"Nombre: \" + nombre + \"\\nEdad: \" + edad;\n",
    "    }\n",
    "}"
   ]
  },
  {
   "cell_type": "code",
   "execution_count": 30,
   "metadata": {},
   "outputs": [
    {
     "data": {
      "text/plain": [
       "true"
      ]
     },
     "execution_count": 30,
     "metadata": {},
     "output_type": "execute_result"
    }
   ],
   "source": [
    "Persona p = new Persona(\"Luis\", 22);\n",
    "p instanceof Object;"
   ]
  },
  {
   "cell_type": "markdown",
   "metadata": {},
   "source": [
    "## Método _public String toString()_"
   ]
  },
  {
   "cell_type": "code",
   "execution_count": 31,
   "metadata": {},
   "outputs": [
    {
     "data": {
      "text/plain": [
       "Nombre: Alejandro\n",
       "Edad: 36"
      ]
     },
     "execution_count": 31,
     "metadata": {},
     "output_type": "execute_result"
    }
   ],
   "source": [
    "Persona p1 = new Persona(\"Alejandro\", 36);\n",
    "p1.getInfo();"
   ]
  },
  {
   "cell_type": "markdown",
   "metadata": {},
   "source": [
    "Si llamamos al método toString() de la clase Persona, al no estar redefinido, se toma la implementación genérica que hereda de la clase Object. Ojo que en la salida por consola, no se muestra el prefijo *REPL.$JShell$20V$* que muestra en Jupyter"
   ]
  },
  {
   "cell_type": "code",
   "execution_count": 32,
   "metadata": {},
   "outputs": [
    {
     "data": {
      "text/plain": [
       "REPL.$JShell$20V$Persona@4719ed98"
      ]
     },
     "execution_count": 32,
     "metadata": {},
     "output_type": "execute_result"
    }
   ],
   "source": [
    "p1.toString();"
   ]
  },
  {
   "cell_type": "code",
   "execution_count": 36,
   "metadata": {},
   "outputs": [],
   "source": [
    "class Persona\n",
    "{ \n",
    "\n",
    "    String nombre;\n",
    "    int edad;\n",
    "    \n",
    "     Persona(String nombre, int edad) \n",
    "    {\n",
    "        this.nombre = nombre;\n",
    "        this.edad = edad;\n",
    "    }\n",
    "\n",
    "    @Override\n",
    "    public String toString()\n",
    "    {\n",
    "        return \"\\nNombre: \" + nombre + \"\\n\"\n",
    "        +\"Edad: \" + edad;\n",
    "    }\n",
    "}"
   ]
  },
  {
   "cell_type": "code",
   "execution_count": 37,
   "metadata": {},
   "outputs": [
    {
     "data": {
      "text/plain": [
       "\n",
       "Nombre: Luis\n",
       "Edad: 22"
      ]
     },
     "execution_count": 37,
     "metadata": {},
     "output_type": "execute_result"
    }
   ],
   "source": [
    "Persona p2 = new Persona(\"Luis\", 22);\n",
    "p2.toString();"
   ]
  },
  {
   "cell_type": "markdown",
   "metadata": {},
   "source": [
    "Dado que el método _toString()_ es el encargado de convertir cualquier objetoa una cadena de caracteres, es el utilizado por muchos objetos Java para ser invicado pro defecto. Por ejemplo, en el caso de mostrar información por consola."
   ]
  },
  {
   "cell_type": "code",
   "execution_count": 38,
   "metadata": {},
   "outputs": [
    {
     "name": "stdout",
     "output_type": "stream",
     "text": [
      "\n",
      "Nombre: Luis\n",
      "Edad: 22\n"
     ]
    }
   ],
   "source": [
    "System.out.println(p2.toString())"
   ]
  },
  {
   "cell_type": "markdown",
   "metadata": {},
   "source": [
    "Se podría sustituir por:"
   ]
  },
  {
   "cell_type": "code",
   "execution_count": 39,
   "metadata": {},
   "outputs": [
    {
     "name": "stdout",
     "output_type": "stream",
     "text": [
      "\n",
      "Nombre: Luis\n",
      "Edad: 22\n"
     ]
    }
   ],
   "source": [
    "System.out.println(p2)"
   ]
  },
  {
   "cell_type": "markdown",
   "metadata": {},
   "source": [
    "## Método *public boolean equals(Object o)*"
   ]
  },
  {
   "cell_type": "markdown",
   "metadata": {},
   "source": [
    "A partir de este momento se utilizará el *operador ==* para comparar tipos primitivos de datos y el método equals() para comparar objetos"
   ]
  },
  {
   "cell_type": "markdown",
   "metadata": {},
   "source": [
    "### Operador =="
   ]
  },
  {
   "cell_type": "markdown",
   "metadata": {},
   "source": [
    "Siempre se utilizará el == con los tipos de datos"
   ]
  },
  {
   "cell_type": "code",
   "execution_count": 41,
   "metadata": {},
   "outputs": [
    {
     "data": {
      "text/plain": [
       "true"
      ]
     },
     "execution_count": 41,
     "metadata": {},
     "output_type": "execute_result"
    }
   ],
   "source": [
    "int i1 = 34;\n",
    "int i2 = 34;\n",
    "i1==i2"
   ]
  },
  {
   "cell_type": "code",
   "execution_count": 8,
   "metadata": {},
   "outputs": [],
   "source": [
    "Persona p1 = new Persona(\"Manuel\",22);\n",
    "Persona p2 = new Persona(\"Manuel\",22); "
   ]
  },
  {
   "cell_type": "markdown",
   "metadata": {},
   "source": [
    "Se obtiene _false_ porque aunque la información contenida sea la misma, los objetos apuntan a dos zonas de memoria distintas, por lo que se consideran objetos distintos."
   ]
  },
  {
   "cell_type": "code",
   "execution_count": 9,
   "metadata": {},
   "outputs": [
    {
     "data": {
      "text/plain": [
       "false"
      ]
     },
     "execution_count": 9,
     "metadata": {},
     "output_type": "execute_result"
    }
   ],
   "source": [
    "p1==p2"
   ]
  },
  {
   "cell_type": "markdown",
   "metadata": {},
   "source": [
    "En la siguiente asignación se pierde el objeto al que apuntaba *p1* ."
   ]
  },
  {
   "cell_type": "code",
   "execution_count": 10,
   "metadata": {},
   "outputs": [],
   "source": [
    "p1 = p2;"
   ]
  },
  {
   "cell_type": "markdown",
   "metadata": {},
   "source": [
    "Como ahora p1 y p2 apuntan al mismo objeto en memoria, el operador *==* devolverá _true_."
   ]
  },
  {
   "cell_type": "code",
   "execution_count": 11,
   "metadata": {},
   "outputs": [
    {
     "data": {
      "text/plain": [
       "true"
      ]
     },
     "execution_count": 11,
     "metadata": {},
     "output_type": "execute_result"
    }
   ],
   "source": [
    "p1==p2"
   ]
  },
  {
   "cell_type": "markdown",
   "metadata": {},
   "source": [
    "### equals"
   ]
  },
  {
   "cell_type": "markdown",
   "metadata": {},
   "source": [
    "Hacemos un override del método equals perteneciente a la clase Object.\n",
    "Ahora haremos la comparación de objetos con el método equals, con la llamada a: p1.equals(p2);\n",
    "La comparación se realizará a partir de un atributo del objeto, por ejemplo el NIF, ya que este es único.\n",
    "En la definición del método equals, llamaremos al método equals de la clase String(), el cual ya está definido y funciona correctamente."
   ]
  },
  {
   "cell_type": "code",
   "execution_count": 60,
   "metadata": {},
   "outputs": [],
   "source": [
    "class Persona\n",
    "{ \n",
    "    String nif;\n",
    "    String nombre;\n",
    "    int edad;\n",
    "    \n",
    "    Persona(String nif, String nombre, int edad) \n",
    "    {\n",
    "        this.nif = nif;\n",
    "        this.nombre = nombre;\n",
    "        this.edad = edad;\n",
    "    }\n",
    "    \n",
    "    String getNif()\n",
    "    {\n",
    "        return nif;\n",
    "    }\n",
    "    \n",
    "    int getEdad()\n",
    "    {\n",
    "        return edad;\n",
    "    }    \n",
    "    \n",
    "    @Override\n",
    "    public String toString()\n",
    "    {\n",
    "        return \"NIF: \" + nif + \"\\nNombre: \" + nombre + \"\\nEdad: \" + edad;\n",
    "    }\n",
    "    \n",
    "    @Override\n",
    "    public boolean equals(Object obj) //Upcasting, el objeto que recibe lo vemos como un Objeto\n",
    "    {\n",
    "        if(obj instanceof Persona) //Si la instancia del objeto es una Persona...\n",
    "        {\n",
    "            Persona p = (Persona) obj; //Hacemos un downcasting (explícito) y bajamos el inyerfaz\n",
    "            if (edad == p.getEdad() && nif.equals(p.getNif())) //Llama al equals de String, que funciona correctamente\n",
    "                return true;\n",
    "            else\n",
    "                return false;\n",
    "        }\n",
    "        else\n",
    "            return false;\n",
    "    }\n",
    "}"
   ]
  },
  {
   "cell_type": "code",
   "execution_count": 61,
   "metadata": {},
   "outputs": [],
   "source": [
    "Persona p1 = new Persona(\"11111\",\"Manuel\",22);\n",
    "Persona p2 = new Persona(\"11111\",\"Manuel\",22);"
   ]
  },
  {
   "cell_type": "code",
   "execution_count": 62,
   "metadata": {
    "scrolled": true
   },
   "outputs": [
    {
     "name": "stdout",
     "output_type": "stream",
     "text": [
      "Con el método equals: true\n"
     ]
    }
   ],
   "source": [
    "System.out.println(\"Con el método equals: \" + p1.equals(p2));"
   ]
  },
  {
   "cell_type": "markdown",
   "metadata": {},
   "source": [
    "## Generalicación con el interfaz de Object"
   ]
  },
  {
   "cell_type": "code",
   "execution_count": 63,
   "metadata": {},
   "outputs": [],
   "source": [
    "Object objetos[] = new Object[3];"
   ]
  },
  {
   "cell_type": "code",
   "execution_count": 64,
   "metadata": {},
   "outputs": [
    {
     "data": {
      "text/plain": [
       "NIF: 11111\n",
       "Nombre: Manuel\n",
       "Edad: 22"
      ]
     },
     "execution_count": 64,
     "metadata": {},
     "output_type": "execute_result"
    }
   ],
   "source": [
    "objetos[0] = p1;\n",
    "objetos[1] = \"Hola\";\n",
    "objetos[2] = p2;"
   ]
  },
  {
   "cell_type": "code",
   "execution_count": 65,
   "metadata": {},
   "outputs": [
    {
     "name": "stdout",
     "output_type": "stream",
     "text": [
      "NIF: 11111\n",
      "Nombre: Manuel\n",
      "Edad: 22\n",
      "------\n",
      "Hola\n",
      "------\n",
      "NIF: 11111\n",
      "Nombre: Manuel\n",
      "Edad: 22\n",
      "------\n"
     ]
    }
   ],
   "source": [
    "for(int i=0;i<objetos.length;i++)\n",
    "    System.out.println(objetos[i].toString()+\"\\n------\");"
   ]
  },
  {
   "cell_type": "code",
   "execution_count": null,
   "metadata": {},
   "outputs": [],
   "source": []
  }
 ],
 "metadata": {
  "kernelspec": {
   "display_name": "Java",
   "language": "java",
   "name": "java"
  },
  "language_info": {
   "codemirror_mode": "java",
   "file_extension": ".java",
   "mimetype": "text/x-java-source",
   "name": "Java",
   "pygments_lexer": "java",
   "version": "10.0.2+13-Ubuntu-1ubuntu0.18.04.4"
  }
 },
 "nbformat": 4,
 "nbformat_minor": 2
}
